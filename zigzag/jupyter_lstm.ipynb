{
 "cells": [
  {
   "cell_type": "code",
   "execution_count": 43,
   "metadata": {},
   "outputs": [],
   "source": [
    "import math\n",
    "from termcolor import colored\n",
    "import pandas_datareader as web\n",
    "import numpy as np\n",
    "import pandas as pd\n",
    "from sklearn.preprocessing import MinMaxScaler, scale\n",
    "import joblib\n",
    "from keras.models import Sequential\n",
    "from keras.layers import Dense, LSTM, Masking\n",
    "from keras.layers import Dropout\n",
    "from keras.models import load_model\n",
    "import matplotlib.pyplot as plt\n",
    "from prepare_data import get_data\n",
    "from sklearn.metrics import classification_report, confusion_matrix, mean_squared_error"
   ]
  },
  {
   "cell_type": "code",
   "execution_count": 44,
   "metadata": {},
   "outputs": [],
   "source": [
    "def get_dataset(train_data):\n",
    "    \"\"\" Fills len(train_data) long arrays with 60 records \n",
    "        in each position\n",
    "        example = [[1...60], [1...60], ...]\n",
    "    \"\"\"\n",
    "    x_train = []\n",
    "    for i in range(60, len(train_data)):\n",
    "        x_train.append(train_data[i-60:i, :-1])\n",
    "    x_train = np.array(x_train)\n",
    "    return np.array(x_train)"
   ]
  },
  {
   "cell_type": "code",
   "execution_count": 45,
   "metadata": {},
   "outputs": [],
   "source": [
    "def create_model(shape_examples, shape_features):\n",
    "    print(colored('Generating LSTM model.', 'yellow'))\n",
    "    print(colored(f'Shape {shape_examples}x{shape_features}', 'cyan'))\n",
    "\n",
    "    model = Sequential()\n",
    "    model.add(LSTM(\n",
    "        units=50,\n",
    "        return_sequences=True,\n",
    "        input_shape=(shape_examples, shape_features)\n",
    "    ))\n",
    "    model.add(Dropout(0.2))\n",
    "    model.add(LSTM(units=50, return_sequences=True))\n",
    "    model.add(Dropout(0.25))\n",
    "    model.add(LSTM(units=50, return_sequences=True))\n",
    "    model.add(Dropout(0.25))\n",
    "    model.add(LSTM(units=50))\n",
    "    model.add(Dropout(0.25))\n",
    "    model.add(Dense(units=1))\n",
    "    model.compile(optimizer='adam', loss='mean_squared_error', metrics=[\"accuracy\"])\n",
    "    return model\n"
   ]
  },
  {
   "cell_type": "code",
   "execution_count": 46,
   "metadata": {},
   "outputs": [
    {
     "name": "stdout",
     "output_type": "stream",
     "text": [
      "\u001b[32mLoaded storaged data.\u001b[0m\n"
     ]
    }
   ],
   "source": [
    "try:\n",
    "    X = np.load('resources/X_3.npy')\n",
    "    Y = np.load('resources/Y_3.npy')\n",
    "    scaler = joblib.load(\"resources/scaler_3.save\")\n",
    "    print(colored('Loaded storaged data.', 'green'))\n",
    "except FileNotFoundError:\n",
    "    try:\n",
    "        df = pd.read_csv(\"resources/test.csv\")\n",
    "    except FileNotFoundError:\n",
    "        print(colored('Creating missing file.', 'red'))\n",
    "        get_data()\n",
    "        df = pd.read_csv(\"resources/test.csv\")\n",
    "\n",
    "    df[\"trend\"] = df[\"AO_1_500\"].shift(-1)\n",
    "    df = df.iloc[:, 2:]\n",
    "    print(colored('Setting up parameters.', 'yellow'))\n",
    "    scaler = MinMaxScaler(feature_range=(0, 1))\n",
    "    scaled_data = scaler.fit_transform(df.values)  # shape (70718, 8)\n",
    "    joblib.dump(scaler, \"resources/scaler_3.save\")\n",
    "    X = get_dataset(scaled_data)\n",
    "    Y = np.array(scaled_data[60:len(scaled_data), -1])\n",
    "    np.save(\"resources/X_3.npy\", X)\n",
    "    np.save(\"resources/Y_3.npy\", Y)\n"
   ]
  },
  {
   "cell_type": "code",
   "execution_count": 47,
   "metadata": {},
   "outputs": [
    {
     "name": "stdout",
     "output_type": "stream",
     "text": [
      "\u001b[36mX shape: (70151, 60, 7)\u001b[0m\n",
      "\u001b[36mY shape: (70151,)\u001b[0m\n",
      "\u001b[33mX_train shape: (56121, 60, 7)\u001b[0m\n",
      "\u001b[33mY_train shape: (56121,)\u001b[0m\n"
     ]
    }
   ],
   "source": [
    "print(colored(f'X shape: {X.shape}', 'cyan'))\n",
    "print(colored(f'Y shape: {Y.shape}', 'cyan'))\n",
    "\n",
    "training_data_len = math.ceil(len(Y) * .8)\n",
    "x_train = X[:training_data_len]\n",
    "y_train = Y[:training_data_len]\n",
    "x_train = np.array(x_train)\n",
    "y_train = np.array(y_train)\n",
    "\n",
    "print(colored(f'X_train shape: {x_train.shape}', 'yellow'))\n",
    "print(colored(f'Y_train shape: {y_train.shape}', 'yellow'))"
   ]
  },
  {
   "cell_type": "code",
   "execution_count": 48,
   "metadata": {},
   "outputs": [
    {
     "name": "stdout",
     "output_type": "stream",
     "text": [
      "\u001b[32mModel loaded successfully\u001b[0m\n"
     ]
    }
   ],
   "source": [
    "try:\n",
    "    model = load_model('resources/my_model_3.h5')\n",
    "    print(colored('Model loaded successfully', 'green'))\n",
    "except IOError:\n",
    "    print(colored('Training...', 'yellow'))\n",
    "    model = create_model(X.shape[1], X.shape[-1])\n",
    "    history = model.fit(x_train, y_train, batch_size=64, epochs=10)\n",
    "    model.save('resources/my_model_3.h5')\n",
    "    hist_df = pd.DataFrame(history.history)\n",
    "    with open(\"resources/history.csv\", mode='w') as f:\n",
    "        hist_df.to_csv(f)\n"
   ]
  },
  {
   "cell_type": "code",
   "execution_count": 49,
   "metadata": {},
   "outputs": [
    {
     "data": {
      "text/plain": [
       "[0.00014471950998995453, 0.0]"
      ]
     },
     "execution_count": 49,
     "metadata": {},
     "output_type": "execute_result"
    }
   ],
   "source": [
    "train_acc = model.evaluate(x_train, y_train, verbose=0)\n",
    "train_acc"
   ]
  },
  {
   "cell_type": "code",
   "execution_count": 63,
   "metadata": {},
   "outputs": [
    {
     "name": "stdout",
     "output_type": "stream",
     "text": [
      "406.25550000000015\n",
      "1/1 [==============================] - 0s 49ms/step\n",
      "340.4544993026811\n"
     ]
    }
   ],
   "source": [
    "index = 6\n",
    "sample = np.array([x_train[index]])\n",
    "\n",
    "y_sample = scaler.inverse_transform([[0] * 7 + [y_train[index]]])\n",
    "print(y_sample[0][-1])\n",
    "prediction = model.predict(sample)[0][0]\n",
    "data = scaler.inverse_transform([[0] * 7 + [prediction]])\n",
    "print(data[0][-1])\n",
    "# print(\"train: \", mean_squared_error(y_train, prediction))\n"
   ]
  }
 ],
 "metadata": {
  "kernelspec": {
   "display_name": "Python 3.8.10 ('env': venv)",
   "language": "python",
   "name": "python3"
  },
  "language_info": {
   "codemirror_mode": {
    "name": "ipython",
    "version": 3
   },
   "file_extension": ".py",
   "mimetype": "text/x-python",
   "name": "python",
   "nbconvert_exporter": "python",
   "pygments_lexer": "ipython3",
   "version": "3.8.10"
  },
  "orig_nbformat": 4,
  "vscode": {
   "interpreter": {
    "hash": "6b074621f62f3a2cd48bd6aef4a065010c2a607d51eb88df2bccb87a4e589cd6"
   }
  }
 },
 "nbformat": 4,
 "nbformat_minor": 2
}
